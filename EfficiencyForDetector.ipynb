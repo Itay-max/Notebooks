{
  "cells": [
    {
      "cell_type": "markdown",
      "metadata": {
        "id": "view-in-github",
        "colab_type": "text"
      },
      "source": [
        "<a href=\"https://colab.research.google.com/github/itayhorin/Notebooks/blob/main/EfficiencyForDetector.ipynb\" target=\"_parent\"><img src=\"https://colab.research.google.com/assets/colab-badge.svg\" alt=\"Open In Colab\"/></a>"
      ]
    },
    {
      "cell_type": "code",
      "source": [
        "%pylab inline\n",
        "from scipy.stats import rv_histogram\n",
        "import pandas"
      ],
      "metadata": {
        "colab": {
          "base_uri": "https://localhost:8080/"
        },
        "id": "bXrnZD7H08js",
        "outputId": "0b7def7b-0707-437c-979d-4d5d846db2af"
      },
      "execution_count": 2,
      "outputs": [
        {
          "output_type": "stream",
          "name": "stdout",
          "text": [
            "Populating the interactive namespace from numpy and matplotlib\n"
          ]
        }
      ]
    },
    {
      "cell_type": "code",
      "source": [
        "## geometry properties\n",
        "##     Z             R\n",
        "\n",
        "## -32.5 -17.5   (15)   6.4\n",
        "##  -17.5 17.5   (35)  10.7\n",
        "##  17.5 37.5    (20)   6.4"
      ],
      "metadata": {
        "id": "AMYbtYKF0-cO"
      },
      "execution_count": 3,
      "outputs": []
    },
    {
      "cell_type": "code",
      "source": [
        "# normalize yield probabillty according to area of each surface"
      ],
      "metadata": {
        "id": "tXVoyJqS_ISD"
      },
      "execution_count": 4,
      "outputs": []
    },
    {
      "cell_type": "code",
      "source": [
        "Areas = array([15*6.4,35*10.7,20*6.4])*2*pi\n",
        "probs = Areas / sum(Areas)"
      ],
      "metadata": {
        "id": "KS9oWm2V_Mj3"
      },
      "execution_count": 5,
      "outputs": []
    },
    {
      "cell_type": "code",
      "source": [
        "# creating the distribution over Z - axis\n",
        "bins = array([0,15,50,70])-32.5\n",
        "my_dist = rv_histogram((probs,bins))\n",
        "X = linspace(bins[0],bins[-1],100)\n",
        "plot(X,my_dist.cdf(X) , label = 'cdf')\n",
        "plot(X,my_dist.pdf(X) , label = 'pdf')\n",
        "legend()"
      ],
      "metadata": {
        "colab": {
          "base_uri": "https://localhost:8080/",
          "height": 282
        },
        "id": "gpVGjljqMp3t",
        "outputId": "1f78f59c-5a9d-4d12-aad2-e84ce78ef04a"
      },
      "execution_count": 6,
      "outputs": [
        {
          "output_type": "execute_result",
          "data": {
            "text/plain": [
              "<matplotlib.legend.Legend at 0x7f47dce8a610>"
            ]
          },
          "metadata": {},
          "execution_count": 6
        },
        {
          "output_type": "display_data",
          "data": {
            "text/plain": [
              "<Figure size 432x288 with 1 Axes>"
            ],
            "image/png": "[encoded data removed]"
          },
          "metadata": {
            "needs_background": "light"
          }
        }
      ]
    },
    {
      "cell_type": "code",
      "source": [
        "n = 10000000  # number of patricles \n",
        "\n",
        "## creating position (from geometry) and velocity (isotropic) of each particle\n",
        "z = my_dist.rvs(size = n)\n",
        "theta = rand(n)*2*pi \n",
        "x = where( (-17.5<=z) &  (z<=17.5) , 10.7*cos(z) , 6.4*cos(z))\n",
        "y = where( (-17.5<=z) &  (z<=17.5), 10.7*sin(z) , 6.4*sin(z))\n",
        "i = rand(n)\n",
        "j = rand(n)\n",
        "theta_v = 2*pi*i\n",
        "phi = arccos(2*j-1)\n",
        "v1 = cos(theta_v)*sin(phi)\n",
        "v2 = sin(theta_v)*sin(phi)\n",
        "v3 = cos(phi)\n",
        "P = pandas.DataFrame(data = array([x,y,z]).T ) # columns = ['x' , 'y' , 'z']\n",
        "V = pandas.DataFrame(data = array([v1,v2,v3]).T )\n"
      ],
      "metadata": {
        "id": "yWr5xbnZRs0c"
      },
      "execution_count": 18,
      "outputs": []
    },
    {
      "cell_type": "code",
      "source": [
        "# det propeties\n",
        "Normal = array([0,1,0])\n",
        "R = 29.6\n",
        "p_plane = pandas.DataFrame(data = [[0,55.5,0]]*n )"
      ],
      "metadata": {
        "id": "-enJB8vkeUE0"
      },
      "execution_count": 19,
      "outputs": []
    },
    {
      "cell_type": "code",
      "source": [
        "## finding the time each particle reached the detector (might be negetive)\n",
        "t = ( (p_plane-P).dot(Normal) )/ (V.dot(Normal))\n",
        "V[0] = V[0]*t\n",
        "V[1] = V[1]*t\n",
        "V[2] = V[2]*t\n",
        "L = P + V\n",
        "L['R_xz'] = ( L[0]**2 + L[2]**2 )**0.5\n",
        "L[\"t\"] = t"
      ],
      "metadata": {
        "id": "qzceJjj2dNyM"
      },
      "execution_count": 20,
      "outputs": []
    },
    {
      "cell_type": "code",
      "source": [
        "reached_det_from_boundry = L.query(\"R_xz <= @R and t > 0\")"
      ],
      "metadata": {
        "id": "hmi27Cwng_IQ"
      },
      "execution_count": 21,
      "outputs": []
    },
    {
      "cell_type": "code",
      "source": [
        "def ReachedFrom(P):\n",
        "  t = ( (p_plane-P).dot(Normal) )/ (V.dot(Normal))\n",
        "  V[0] = V[0]*t\n",
        "  V[1] = V[1]*t\n",
        "  V[2] = V[2]*t\n",
        "  L = P + V  # end position of particle\n",
        "  L['R_xz'] = ( L[0]**2 + L[2]**2 )**0.5\n",
        "  L[\"t\"] = t\n",
        "  RD = L.query(\"R_xz <= @R and t > 0\")\n",
        "  return RD #.shape[0]\n"
      ],
      "metadata": {
        "id": "MezXP_IeltCM"
      },
      "execution_count": 22,
      "outputs": []
    },
    {
      "cell_type": "code",
      "source": [
        "def thetaOfArrival(P):\n",
        "  ReachedFrom(P)\n",
        "  W =  ( (ReachedFrom(P)-P)[[0,1,2]] ).dropna(how = 'all')\n",
        "  WdotN = W.dot(Normal) \n",
        "  W['norm'] = (W[0]**2 + W[1]**2 + W[2]**2 )**0.5\n",
        "  return  arccos(WdotN/W['norm'])\n"
      ],
      "metadata": {
        "id": "5CQe-D0yqx0e"
      },
      "execution_count": 23,
      "outputs": []
    },
    {
      "cell_type": "code",
      "source": [
        "p_origin = pandas.DataFrame(data = [[0,0,0]]*n )"
      ],
      "metadata": {
        "id": "sLqiHeWAhMrh"
      },
      "execution_count": 24,
      "outputs": []
    },
    {
      "cell_type": "code",
      "source": [
        "ratio = ReachedFrom(P).shape[0] / ReachedFrom(p_origin).shape[0] \n",
        "ratio"
      ],
      "metadata": {
        "colab": {
          "base_uri": "https://localhost:8080/"
        },
        "id": "MHXuGR0Nwoz_",
        "outputId": "7e2a5aec-47d2-4f7b-e75c-0a67327d0bfe"
      },
      "execution_count": 27,
      "outputs": [
        {
          "output_type": "execute_result",
          "data": {
            "text/plain": [
              "0.9435522109545879"
            ]
          },
          "metadata": {},
          "execution_count": 27
        }
      ]
    },
    {
      "cell_type": "code",
      "source": [
        "S1 = thetaOfArrival(P)*180/pi\n",
        "hist(S1 , bins = 100);\n",
        "print(S1.std())\n",
        "print(S1.mean())"
      ],
      "metadata": {
        "colab": {
          "base_uri": "https://localhost:8080/",
          "height": 300
        },
        "id": "gCxxWLvgw1cE",
        "outputId": "5cd8e699-9468-4b5c-92f1-ef318d285f94"
      },
      "execution_count": 29,
      "outputs": [
        {
          "output_type": "stream",
          "name": "stdout",
          "text": [
            "9.633848558236771\n",
            "21.622839072434882\n"
          ]
        },
        {
          "output_type": "display_data",
          "data": {
            "text/plain": [
              "<Figure size 432x288 with 1 Axes>"
            ],
            "image/png": "[encoded data removed]"
          },
          "metadata": {
            "needs_background": "light"
          }
        }
      ]
    },
    {
      "cell_type": "code",
      "source": [
        "S2 = thetaOfArrival(p_origin)*180/pi\n",
        "hist(S2 , bins = 100);\n",
        "print(S2.std())\n",
        "print(S2.mean())"
      ],
      "metadata": {
        "id": "WT7oLTMExgyW",
        "outputId": "efbb3b7b-addd-411a-a715-299f61e282d1",
        "colab": {
          "base_uri": "https://localhost:8080/",
          "height": 300
        }
      },
      "execution_count": 28,
      "outputs": [
        {
          "output_type": "stream",
          "name": "stdout",
          "text": [
            "6.635420246121556\n",
            "18.62991965562088\n"
          ]
        },
        {
          "output_type": "display_data",
          "data": {
            "text/plain": [
              "<Figure size 432x288 with 1 Axes>"
            ],
            "image/png": "[encoded data removed]"
          },
          "metadata": {
            "needs_background": "light"
          }
        }
      ]
    },
    {
      "cell_type": "code",
      "source": [],
      "metadata": {
        "id": "2l0yqJEdtuLO"
      },
      "execution_count": null,
      "outputs": []
    }
  ],
  "metadata": {
    "colab": {
      "collapsed_sections": [],
      "toc_visible": true,
      "provenance": [],
      "include_colab_link": true
    },
    "kernelspec": {
      "display_name": "Python 3",
      "name": "python3"
    }
  },
  "nbformat": 4,
  "nbformat_minor": 0
}