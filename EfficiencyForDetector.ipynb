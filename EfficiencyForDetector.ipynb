{
  "cells": [
    {
      "cell_type": "markdown",
      "metadata": {
        "id": "view-in-github",
        "colab_type": "text"
      },
      "source": [
        "<a href=\"https://colab.research.google.com/github/itayhorin/Notebooks/blob/main/EfficiencyForDetector.ipynb\" target=\"_parent\"><img src=\"https://colab.research.google.com/assets/colab-badge.svg\" alt=\"Open In Colab\"/></a>"
      ]
    },
    {
      "cell_type": "code",
      "source": [
        "%pylab inline\n",
        "from scipy.stats import rv_histogram\n",
        "import pandas"
      ],
      "metadata": {
        "colab": {
          "base_uri": "https://localhost:8080/"
        },
        "id": "bXrnZD7H08js",
        "outputId": "f79c2e6b-a705-477f-f6a4-a547117a97c3"
      },
      "execution_count": 1,
      "outputs": [
        {
          "output_type": "stream",
          "name": "stdout",
          "text": [
            "Populating the interactive namespace from numpy and matplotlib\n"
          ]
        }
      ]
    },
    {
      "cell_type": "code",
      "source": [
        "## geometry properties\n",
        "##     Z             R\n",
        "\n",
        "## -32.5 -17.5   (15)   6.4\n",
        "##  -17.5 17.5   (35)  10.7\n",
        "##  17.5 37.5    (20)   6.4"
      ],
      "metadata": {
        "id": "AMYbtYKF0-cO"
      },
      "execution_count": 2,
      "outputs": []
    },
    {
      "cell_type": "code",
      "source": [
        "# normalize yield probabillty according to area of each surface"
      ],
      "metadata": {
        "id": "tXVoyJqS_ISD"
      },
      "execution_count": 3,
      "outputs": []
    },
    {
      "cell_type": "code",
      "source": [
        "Areas = array([15*6.4,35*10.7,20*6.4])*2*pi\n",
        "probs = Areas / sum(Areas)"
      ],
      "metadata": {
        "id": "KS9oWm2V_Mj3"
      },
      "execution_count": 2,
      "outputs": []
    },
    {
      "cell_type": "code",
      "source": [
        "# creating the distribution over Z - axis\n",
        "bins = array([0,15,50,70])-32.5\n",
        "my_dist = rv_histogram((probs,bins))\n",
        "X = linspace(bins[0],bins[-1],100)\n",
        "plot(X,my_dist.cdf(X) , label = 'cdf')\n",
        "plot(X,my_dist.pdf(X) , label = 'pdf')\n",
        "legend()"
      ],
      "metadata": {
        "colab": {
          "base_uri": "https://localhost:8080/",
          "height": 282
        },
        "id": "gpVGjljqMp3t",
        "outputId": "0aa8e2ae-78f4-4fb0-c868-5e3bdbfd9bb8"
      },
      "execution_count": 3,
      "outputs": [
        {
          "output_type": "execute_result",
          "data": {
            "text/plain": [
              "<matplotlib.legend.Legend at 0x7fb66f947e90>"
            ]
          },
          "metadata": {},
          "execution_count": 3
        },
        {
          "output_type": "display_data",
          "data": {
            "text/plain": [
              "<Figure size 432x288 with 1 Axes>"
            ],
            "image/png": "[encoded data removed]"
          },
          "metadata": {
            "needs_background": "light"
          }
        }
      ]
    },
    {
      "cell_type": "code",
      "source": [
        "n = 10000  # number of patricles \n",
        "\n",
        "## creating position (from geometry) and \n",
        "z = my_dist.rvs(size = n)\n",
        "theta = rand(n)*2*pi \n",
        "x = where( (-17.5<=z) &  (z<=17.5) , 10.7*cos(z) , 6.4*cos(z))\n",
        "y = where( (-17.5<=z) &  (z<=17.5), 10.7*sin(z) , 6.4*sin(z))\n",
        "i = rand(n)\n",
        "j = rand(n)\n",
        "theta_v = 2*pi*i\n",
        "phi = arccos(2*j-1)\n",
        "\n",
        "P = pandas.DataFrame(data = array([x,y,z]).T ) # columns = ['x' , 'y' , 'z']\n",
        "\n"
      ],
      "metadata": {
        "id": "yWr5xbnZRs0c"
      },
      "execution_count": 4,
      "outputs": []
    },
    {
      "cell_type": "code",
      "source": [
        "# det propeties\n",
        "Normal = array([0,1,0])\n",
        "R = 29.6\n",
        "p_plane = pandas.DataFrame(data = [[0,55.5,0]]*n )"
      ],
      "metadata": {
        "id": "-enJB8vkeUE0"
      },
      "execution_count": 5,
      "outputs": []
    },
    {
      "cell_type": "code",
      "source": [
        "def ReachedFrom(P):\n",
        "\n",
        "\n",
        "\n",
        "\n",
        "#velocity (isotropic) of each particle\n",
        "  v1 = cos(theta_v)*sin(phi)\n",
        "  v2 = sin(theta_v)*sin(phi)\n",
        "  v3 = cos(phi)\n",
        "  V = pandas.DataFrame(data = array([v1,v2,v3]).T )\n",
        "\n",
        "# time of arrival\n",
        "  t = ( (p_plane-P).dot(Normal) )/ (V.dot(Normal))\n",
        "\n",
        "# advance particles in time\n",
        "  V[0] = V[0]*t\n",
        "  V[1] = V[1]*t\n",
        "  V[2] = V[2]*t\n",
        "\n",
        "  \n",
        "\n",
        "  L = P + V  # end position of particle\n",
        "  \n",
        "  # more properties of end position\n",
        "  L['R_xz'] = ( L[0]**2 + L[2]**2 )**0.5\n",
        "  L[\"t\"] = t\n",
        "   \n",
        "  # particle needs to be inside the det space  \n",
        "  RD = L.query(\"R_xz <= @R and t > 0\")\n",
        "  \n",
        "  return RD #particles reached det\n"
      ],
      "metadata": {
        "id": "MezXP_IeltCM"
      },
      "execution_count": 6,
      "outputs": []
    },
    {
      "cell_type": "code",
      "source": [
        "def thetaOfArrival(P):\n",
        "  # using dot product to find the angle which the particle arrived to det (angle w.r.t normal and the normal of plane)\n",
        "\n",
        "  W =  ( (ReachedFrom(P)-P)[[0,1,2]] ).dropna(how = 'all')\n",
        "  WdotN = W.dot(Normal) \n",
        "  W['norm'] = (W[0]**2 + W[1]**2 + W[2]**2 )**0.5\n",
        "  return  arccos(WdotN/W['norm'])\n"
      ],
      "metadata": {
        "id": "5CQe-D0yqx0e"
      },
      "execution_count": 7,
      "outputs": []
    },
    {
      "cell_type": "code",
      "source": [
        "p_origin = pandas.DataFrame(data = [[0,0,0]]*n )"
      ],
      "metadata": {
        "id": "sLqiHeWAhMrh"
      },
      "execution_count": 8,
      "outputs": []
    },
    {
      "cell_type": "code",
      "source": [
        "U1 = rand(n)\n",
        "U2 = rand(n)\n",
        "r = 1\n",
        "x = r * np.sqrt(U2) * np.cos(2 * np.pi * U1)\n",
        "y = U1*0\n",
        "z = r * np.sqrt(U2) * np.sin(2 * np.pi * U1)\n",
        "p_origin_disk  = pandas.DataFrame(data = array([x,y,z]).T )"
      ],
      "metadata": {
        "id": "tvKLe-d_p5K8"
      },
      "execution_count": 9,
      "outputs": []
    },
    {
      "cell_type": "code",
      "source": [
        "ratio1 = ReachedFrom(P).shape[0] / ReachedFrom(p_origin).shape[0] \n",
        "ratio2 = ReachedFrom(P).shape[0] / ReachedFrom(p_origin_disk).shape[0] \n",
        "print(ratio1 , ratio2)"
      ],
      "metadata": {
        "colab": {
          "base_uri": "https://localhost:8080/"
        },
        "id": "MHXuGR0Nwoz_",
        "outputId": "de9b087a-45cc-4f05-bd0a-e62c94837beb"
      },
      "execution_count": 10,
      "outputs": [
        {
          "output_type": "stream",
          "name": "stdout",
          "text": [
            "0.9101307189542484 0.9161184210526315\n"
          ]
        }
      ]
    },
    {
      "cell_type": "code",
      "source": [
        "S1 = thetaOfArrival(P)*180/pi\n",
        "hist(S1 , bins = 100);\n",
        "print(S1.std())\n",
        "print(S1.mean())"
      ],
      "metadata": {
        "colab": {
          "base_uri": "https://localhost:8080/",
          "height": 299
        },
        "id": "gCxxWLvgw1cE",
        "outputId": "a0fa828e-fea0-4852-e6ee-aa0fc4fd20f7"
      },
      "execution_count": 11,
      "outputs": [
        {
          "output_type": "stream",
          "name": "stdout",
          "text": [
            "9.508450530954365\n",
            "21.3702592834975\n"
          ]
        },
        {
          "output_type": "display_data",
          "data": {
            "text/plain": [
              "<Figure size 432x288 with 1 Axes>"
            ],
            "image/png": "[encoded data removed]"
          },
          "metadata": {
            "needs_background": "light"
          }
        }
      ]
    },
    {
      "cell_type": "code",
      "source": [
        "S2 = thetaOfArrival(p_origin)*180/pi\n",
        "hist(S2 , bins = 100);\n",
        "print(S2.std())\n",
        "print(S2.mean())"
      ],
      "metadata": {
        "id": "WT7oLTMExgyW",
        "outputId": "aa0965ee-c077-467c-c08b-97f0cd020fb9",
        "colab": {
          "base_uri": "https://localhost:8080/",
          "height": 299
        }
      },
      "execution_count": 12,
      "outputs": [
        {
          "output_type": "stream",
          "name": "stdout",
          "text": [
            "6.661204041021864\n",
            "18.56950035079507\n"
          ]
        },
        {
          "output_type": "display_data",
          "data": {
            "text/plain": [
              "<Figure size 432x288 with 1 Axes>"
            ],
            "image/png": "[encoded data removed]"
          },
          "metadata": {
            "needs_background": "light"
          }
        }
      ]
    },
    {
      "cell_type": "code",
      "source": [
        "S3 = thetaOfArrival(p_origin_disk)*180/pi\n",
        "hist(S3 , bins = 100);"
      ],
      "metadata": {
        "id": "2l0yqJEdtuLO",
        "colab": {
          "base_uri": "https://localhost:8080/",
          "height": 265
        },
        "outputId": "b4f544ad-2614-4132-b554-2c2ee4a9a5cc"
      },
      "execution_count": 13,
      "outputs": [
        {
          "output_type": "display_data",
          "data": {
            "text/plain": [
              "<Figure size 432x288 with 1 Axes>"
            ],
            "image/png": "[encoded data removed]"
          },
          "metadata": {
            "needs_background": "light"
          }
        }
      ]
    },
    {
      "cell_type": "code",
      "source": [
        "import scipy"
      ],
      "metadata": {
        "id": "VkgjUbOH67lD"
      },
      "execution_count": 14,
      "outputs": []
    },
    {
      "cell_type": "code",
      "source": [
        "n = 100\n",
        "P = p_origin = pandas.DataFrame(data = [[0,0,0]]*n )\n",
        "P_f = ReachedFrom(P)\n",
        "thickness = 1\n",
        "def F(r):\n",
        "  x,y,z = r.values.T\n",
        "  R = sqrt(x**2+y**2)\n",
        "  return  where( \\\n",
        "        ( (-32.5 <= z) & (z<= -17.5) & (6.4 <= R) & (R<= 6.4 + thickness)  ) | \\\n",
        "        ( (-17.5 <= z) & (z<= 17.5) & (10.7 <= R) & (R<= 10.7 + thickness) ) |  \\\n",
        "        ( (17.5 <= z) & (z<= 37.5)  &  (6.4 <= R) & (R<= 6.4 + thickness) ) \\\n",
        "        , 1 , 0 )\n",
        " # if   ( (-32.5 <= z <= -17.5) and (6.4 <= sqrt(x**2 + y**2) <= 6.5)   ) or \\\n",
        " #      ( (-17.5 <= z <= 17.5) and (10.7 <= sqrt(x**2 + y**2) <= 10.8)  )  or \\\n",
        "  #     ( (17.5 <= z <= 37.5) and   (6.4 <= sqrt(x**2 + y**2) <= 6.5)  ):\n",
        "  #     return 1\n",
        "  #else:\n",
        "   # return 0\n",
        "\n",
        "def r(t):\n",
        "  return (P + ( (P_f-P)[[0,1,2]] ) * t).dropna(how = 'all')\n",
        "\n",
        "def integrand(t):   # array of zero or one (indicator for which patricle is in det space), each index is a particle. t is the advance in time (scaled to 1)\n",
        "  return F(r(t))\n",
        "\n",
        "\n",
        "#[scipy.integrate.quad(lambda t: integrand(t)[i], 0, 1 , full_output = 1)[0] for i in arange(P_f.shape[0]) ]\n",
        "relD = scipy.integrate.quad_vec(lambda t: integrand(t), 0, 1 , points = [0.1,0.3])[0]"
      ],
      "metadata": {
        "id": "mx042AeKugEM"
      },
      "execution_count": 103,
      "outputs": []
    },
    {
      "cell_type": "code",
      "source": [
        "D = sqrt((((P_f-P)[[0,1,2]].dropna(how = 'all'))**2).sum(axis = 1))"
      ],
      "metadata": {
        "id": "yRSrDERUWMTf"
      },
      "execution_count": 69,
      "outputs": []
    },
    {
      "cell_type": "code",
      "source": [
        "widths = relD * D"
      ],
      "metadata": {
        "id": "e71y95ADg7uC"
      },
      "execution_count": 107,
      "outputs": []
    },
    {
      "cell_type": "code",
      "source": [
        "widths.mean()"
      ],
      "metadata": {
        "id": "RB_sY91LhPOJ",
        "outputId": "1387ba31-dac7-4846-8532-3c9887f4764e",
        "colab": {
          "base_uri": "https://localhost:8080/"
        }
      },
      "execution_count": 108,
      "outputs": [
        {
          "output_type": "execute_result",
          "data": {
            "text/plain": [
              "1.0227148577389644"
            ]
          },
          "metadata": {},
          "execution_count": 108
        }
      ]
    },
    {
      "cell_type": "code",
      "source": [],
      "metadata": {
        "id": "h4ldt3CQ7xQu"
      },
      "execution_count": null,
      "outputs": []
    }
  ],
  "metadata": {
    "colab": {
      "collapsed_sections": [],
      "toc_visible": true,
      "provenance": [],
      "include_colab_link": true
    },
    "kernelspec": {
      "display_name": "Python 3",
      "name": "python3"
    }
  },
  "nbformat": 4,
  "nbformat_minor": 0
}