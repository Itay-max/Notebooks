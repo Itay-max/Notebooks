{
  "cells": [
    {
      "cell_type": "markdown",
      "metadata": {
        "id": "view-in-github",
        "colab_type": "text"
      },
      "source": [
        "<a href=\"https://colab.research.google.com/github/itayhorin/Notebooks/blob/main/EfficiencyForDetector.ipynb\" target=\"_parent\"><img src=\"https://colab.research.google.com/assets/colab-badge.svg\" alt=\"Open In Colab\"/></a>"
      ]
    },
    {
      "cell_type": "code",
      "source": [
        "%pylab inline\n",
        "from scipy.stats import rv_histogram\n",
        "import pandas"
      ],
      "metadata": {
        "colab": {
          "base_uri": "https://localhost:8080/"
        },
        "id": "bXrnZD7H08js",
        "outputId": "1ef6734b-4742-4168-c11e-5edd60b753ba"
      },
      "execution_count": 1,
      "outputs": [
        {
          "output_type": "stream",
          "name": "stdout",
          "text": [
            "Populating the interactive namespace from numpy and matplotlib\n"
          ]
        }
      ]
    },
    {
      "cell_type": "code",
      "source": [
        "## geometry properties\n",
        "##     Z             R\n",
        "\n",
        "## -32.5 -17.5   (15)   6.4\n",
        "##  -17.5 17.5   (35)  10.7\n",
        "##  17.5 37.5    (20)   6.4"
      ],
      "metadata": {
        "id": "AMYbtYKF0-cO"
      },
      "execution_count": 2,
      "outputs": []
    },
    {
      "cell_type": "code",
      "source": [
        "# normalize yield probabillty according to area of each surface"
      ],
      "metadata": {
        "id": "tXVoyJqS_ISD"
      },
      "execution_count": 3,
      "outputs": []
    },
    {
      "cell_type": "code",
      "source": [
        "Areas = array([15*6.4,35*10.7,20*6.4])*2*pi\n",
        "probs = Areas / sum(Areas)"
      ],
      "metadata": {
        "id": "KS9oWm2V_Mj3"
      },
      "execution_count": 4,
      "outputs": []
    },
    {
      "cell_type": "code",
      "source": [
        "# creating the distribution over Z - axis\n",
        "bins = array([0,15,50,70])-32.5\n",
        "my_dist = rv_histogram((probs,bins))\n",
        "X = linspace(bins[0],bins[-1],100)\n",
        "plot(X,my_dist.cdf(X) , label = 'cdf')\n",
        "plot(X,my_dist.pdf(X) , label = 'pdf')\n",
        "legend()"
      ],
      "metadata": {
        "colab": {
          "base_uri": "https://localhost:8080/",
          "height": 282
        },
        "id": "gpVGjljqMp3t",
        "outputId": "50cd02eb-3e8c-4188-c82a-e1c8d7c9c534"
      },
      "execution_count": 5,
      "outputs": [
        {
          "output_type": "execute_result",
          "data": {
            "text/plain": [
              "<matplotlib.legend.Legend at 0x7f04251eff10>"
            ]
          },
          "metadata": {},
          "execution_count": 5
        },
        {
          "output_type": "display_data",
          "data": {
            "text/plain": [
              "<Figure size 432x288 with 1 Axes>"
            ],
            "image/png": "[encoded data removed]"
          },
          "metadata": {
            "needs_background": "light"
          }
        }
      ]
    },
    {
      "cell_type": "code",
      "source": [
        "n = 10000000  # number of patricles \n",
        "\n",
        "## creating position (from geometry) and \n",
        "z = my_dist.rvs(size = n)\n",
        "theta = rand(n)*2*pi \n",
        "x = where( (-17.5<=z) &  (z<=17.5) , 10.7*cos(z) , 6.4*cos(z))\n",
        "y = where( (-17.5<=z) &  (z<=17.5), 10.7*sin(z) , 6.4*sin(z))\n",
        "i = rand(n)\n",
        "j = rand(n)\n",
        "theta_v = 2*pi*i\n",
        "phi = arccos(2*j-1)\n",
        "\n",
        "P = pandas.DataFrame(data = array([x,y,z]).T ) # columns = ['x' , 'y' , 'z']\n",
        "\n"
      ],
      "metadata": {
        "id": "yWr5xbnZRs0c"
      },
      "execution_count": 6,
      "outputs": []
    },
    {
      "cell_type": "code",
      "source": [
        "# det propeties\n",
        "Normal = array([0,1,0])\n",
        "R = 29.6\n",
        "p_plane = pandas.DataFrame(data = [[0,55.5,0]]*n )"
      ],
      "metadata": {
        "id": "-enJB8vkeUE0"
      },
      "execution_count": 7,
      "outputs": []
    },
    {
      "cell_type": "code",
      "source": [
        "def ReachedFrom(P):\n",
        "\n",
        "\n",
        "\n",
        "\n",
        "#velocity (isotropic) of each particle\n",
        "  v1 = cos(theta_v)*sin(phi)\n",
        "  v2 = sin(theta_v)*sin(phi)\n",
        "  v3 = cos(phi)\n",
        "  V = pandas.DataFrame(data = array([v1,v2,v3]).T )\n",
        "\n",
        "# time of arrival\n",
        "  t = ( (p_plane-P).dot(Normal) )/ (V.dot(Normal))\n",
        "\n",
        "# advance particles in time\n",
        "  V[0] = V[0]*t\n",
        "  V[1] = V[1]*t\n",
        "  V[2] = V[2]*t\n",
        "\n",
        "  \n",
        "\n",
        "  L = P + V  # end position of particle\n",
        "  \n",
        "  # more properties of end position\n",
        "  L['R_xz'] = ( L[0]**2 + L[2]**2 )**0.5\n",
        "  L[\"t\"] = t\n",
        "   \n",
        "  # particle needs to be inside the det space  \n",
        "  RD = L.query(\"R_xz <= @R and t > 0\")\n",
        "  \n",
        "  return RD #particles reached det\n"
      ],
      "metadata": {
        "id": "MezXP_IeltCM"
      },
      "execution_count": 8,
      "outputs": []
    },
    {
      "cell_type": "code",
      "source": [
        "def thetaOfArrival(P):\n",
        "  # using dot product to find the angle which the particle arrived to det (angle w.r.t normal and the normal of plane)\n",
        "\n",
        "  W =  ( (ReachedFrom(P)-P)[[0,1,2]] ).dropna(how = 'all')\n",
        "  WdotN = W.dot(Normal) \n",
        "  W['norm'] = (W[0]**2 + W[1]**2 + W[2]**2 )**0.5\n",
        "  return  arccos(WdotN/W['norm'])\n"
      ],
      "metadata": {
        "id": "5CQe-D0yqx0e"
      },
      "execution_count": 9,
      "outputs": []
    },
    {
      "cell_type": "code",
      "source": [
        "p_origin = pandas.DataFrame(data = [[0,0,0]]*n )"
      ],
      "metadata": {
        "id": "sLqiHeWAhMrh"
      },
      "execution_count": 10,
      "outputs": []
    },
    {
      "cell_type": "code",
      "source": [
        "U1 = rand(n)\n",
        "U2 = rand(n)\n",
        "r = 1\n",
        "x = r * np.sqrt(U2) * np.cos(2 * np.pi * U1)\n",
        "y = U1*0\n",
        "z = r * np.sqrt(U2) * np.sin(2 * np.pi * U1)\n",
        "p_origin_disk  = pandas.DataFrame(data = array([x,y,z]).T )"
      ],
      "metadata": {
        "id": "tvKLe-d_p5K8"
      },
      "execution_count": 11,
      "outputs": []
    },
    {
      "cell_type": "code",
      "source": [
        "ratio1 = ReachedFrom(P).shape[0] / ReachedFrom(p_origin).shape[0] \n",
        "ratio2 = ReachedFrom(P).shape[0] / ReachedFrom(p_origin_disk).shape[0] \n",
        "print(ratio1 , ratio2)"
      ],
      "metadata": {
        "colab": {
          "base_uri": "https://localhost:8080/"
        },
        "id": "MHXuGR0Nwoz_",
        "outputId": "1f8c9a2f-8327-4a7e-df3a-fab536f72622"
      },
      "execution_count": 12,
      "outputs": [
        {
          "output_type": "stream",
          "name": "stdout",
          "text": [
            "0.9441141579168632 0.9443809789724041\n"
          ]
        }
      ]
    },
    {
      "cell_type": "code",
      "source": [
        "S1 = thetaOfArrival(P)*180/pi\n",
        "hist(S1 , bins = 100);\n",
        "print(S1.std())\n",
        "print(S1.mean())"
      ],
      "metadata": {
        "colab": {
          "base_uri": "https://localhost:8080/",
          "height": 299
        },
        "id": "gCxxWLvgw1cE",
        "outputId": "beb5bd35-1545-4c53-fe0a-eb3d91181aac"
      },
      "execution_count": 13,
      "outputs": [
        {
          "output_type": "stream",
          "name": "stdout",
          "text": [
            "9.62995572091605\n",
            "21.644249414297615\n"
          ]
        },
        {
          "output_type": "display_data",
          "data": {
            "text/plain": [
              "<Figure size 432x288 with 1 Axes>"
            ],
            "image/png": "[encoded data removed]"
          },
          "metadata": {
            "needs_background": "light"
          }
        }
      ]
    },
    {
      "cell_type": "code",
      "source": [
        "S2 = thetaOfArrival(p_origin)*180/pi\n",
        "hist(S2 , bins = 100);\n",
        "print(S2.std())\n",
        "print(S2.mean())"
      ],
      "metadata": {
        "id": "WT7oLTMExgyW",
        "outputId": "8a7fe20f-59de-4c49-8109-11b6da6e4468",
        "colab": {
          "base_uri": "https://localhost:8080/",
          "height": 302
        }
      },
      "execution_count": 14,
      "outputs": [
        {
          "output_type": "stream",
          "name": "stdout",
          "text": [
            "6.632148221464592\n",
            "18.639045702556665\n"
          ]
        },
        {
          "output_type": "display_data",
          "data": {
            "text/plain": [
              "<Figure size 432x288 with 1 Axes>"
            ],
            "image/png": "[encoded data removed]"
          },
          "metadata": {
            "needs_background": "light"
          }
        }
      ]
    },
    {
      "cell_type": "code",
      "source": [
        "S3 = thetaOfArrival(p_origin_disk)*180/pi\n",
        "hist(S3 , bins = 100);"
      ],
      "metadata": {
        "id": "2l0yqJEdtuLO",
        "outputId": "f2ee528c-112c-4d7a-d325-7c1d99514d42",
        "colab": {
          "base_uri": "https://localhost:8080/",
          "height": 267
        }
      },
      "execution_count": 15,
      "outputs": [
        {
          "output_type": "display_data",
          "data": {
            "text/plain": [
              "<Figure size 432x288 with 1 Axes>"
            ],
            "image/png": "[encoded data removed]"
          },
          "metadata": {
            "needs_background": "light"
          }
        }
      ]
    },
    {
      "cell_type": "code",
      "source": [],
      "metadata": {
        "id": "mx042AeKugEM"
      },
      "execution_count": 15,
      "outputs": []
    }
  ],
  "metadata": {
    "colab": {
      "collapsed_sections": [],
      "toc_visible": true,
      "provenance": [],
      "include_colab_link": true
    },
    "kernelspec": {
      "display_name": "Python 3",
      "name": "python3"
    }
  },
  "nbformat": 4,
  "nbformat_minor": 0
}